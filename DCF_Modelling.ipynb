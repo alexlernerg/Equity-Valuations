{
 "cells": [
  {
   "cell_type": "markdown",
   "metadata": {},
   "source": [
    "### Automating DCF Valuations using Python"
   ]
  },
  {
   "cell_type": "code",
   "execution_count": 1,
   "metadata": {},
   "outputs": [],
   "source": [
    "#Importing packages\n",
    "import pandas as pd\n",
    "import numpy as np\n",
    "import matplotlib.pyplot as plt"
   ]
  },
  {
   "cell_type": "code",
   "execution_count": 2,
   "metadata": {},
   "outputs": [],
   "source": [
    "#defining initial parameters\n",
    "g = 0.1\n",
    "margin_ebidta = 0.1\n",
    "depreciation_percent = 0.02\n",
    "working_capital_percent = 0.1\n",
    "tax_r = 0.20\n",
    "\n",
    "cost_of_capital = 0.1\n",
    "terminal_growth_rate = 0.05\n",
    "\n",
    "#number of years to include in the DCF\n",
    "n_years = 5"
   ]
  },
  {
   "cell_type": "code",
   "execution_count": 3,
   "metadata": {},
   "outputs": [
    {
     "name": "stdout",
     "output_type": "stream",
     "text": [
      "2020_actual       10.0\n",
      "2021_budget        NaN\n",
      "2022_projected     NaN\n",
      "2023_projected     NaN\n",
      "2024_projected     NaN\n",
      "dtype: float64\n"
     ]
    },
    {
     "name": "stderr",
     "output_type": "stream",
     "text": [
      "<ipython-input-3-20c79ff65d5a>:3: DeprecationWarning: The default dtype for empty Series will be 'object' instead of 'float64' in a future version. Specify a dtype explicitly to silence this warning.\n",
      "  sales = pd.Series(index = year_list)\n"
     ]
    }
   ],
   "source": [
    "#Projecting company's X quartely sales for the next two years\n",
    "year_list = ['2020_actual', '2021_budget', '2022_projected', '2023_projected', '2024_projected']\n",
    "sales = pd.Series(index = year_list)\n",
    "sales['2020_actual'] = 10\n",
    "print(sales)"
   ]
  },
  {
   "cell_type": "code",
   "execution_count": 4,
   "metadata": {},
   "outputs": [
    {
     "name": "stdout",
     "output_type": "stream",
     "text": [
      "2020_actual       10.000\n",
      "2021_budget       11.000\n",
      "2022_projected    12.100\n",
      "2023_projected    13.310\n",
      "2024_projected    14.641\n",
      "dtype: float64\n"
     ]
    }
   ],
   "source": [
    "# Assume company X has g% growth rate\n",
    "growth_r = g\n",
    "for year_list in range(1,5):\n",
    "    sales[year_list] =  sales[year_list - 1] * (1 + growth_r)\n",
    "print(sales)"
   ]
  },
  {
   "cell_type": "code",
   "execution_count": 5,
   "metadata": {},
   "outputs": [
    {
     "data": {
      "text/plain": [
       "2020_actual            NaN\n",
       "2021_budget       0.604000\n",
       "2022_projected    0.664400\n",
       "2023_projected    0.730840\n",
       "2024_projected    0.803924\n",
       "dtype: float64"
      ]
     },
     "execution_count": 5,
     "metadata": {},
     "output_type": "execute_result"
    }
   ],
   "source": [
    "#computing the Free Cash Flow (FCF)\n",
    "ebitda = sales * margin_ebidta\n",
    "depreciation = sales * depreciation_percent\n",
    "ebit = ebitda - depreciation\n",
    "working_capital = sales * working_capital_percent\n",
    "change_in_working_capital = working_capital.shift(1) - working_capital \n",
    "capex_percent = depreciation_percent\n",
    "capex = -(sales * capex_percent)\n",
    "tax_pay = -ebit * tax_r\n",
    "tax_pay = tax_pay.apply(lambda x: min(x, 0))\n",
    "fcf = ebit + depreciation + tax_pay + capex + change_in_working_capital\n",
    "\n",
    "fcf"
   ]
  },
  {
   "cell_type": "code",
   "execution_count": 6,
   "metadata": {},
   "outputs": [],
   "source": [
    "#computing terminal value and discount factor\n",
    "terminal_value = ((fcf[-1] * (1 + terminal_growth_rate)) / cost_of_capital - terminal_growth_rate)\n",
    "discount_factor = [(1 / (1 + cost_of_capital)) ** i for i in range (1, n_years)]"
   ]
  },
  {
   "cell_type": "code",
   "execution_count": 7,
   "metadata": {},
   "outputs": [
    {
     "data": {
      "text/html": [
       "<div>\n",
       "<style scoped>\n",
       "    .dataframe tbody tr th:only-of-type {\n",
       "        vertical-align: middle;\n",
       "    }\n",
       "\n",
       "    .dataframe tbody tr th {\n",
       "        vertical-align: top;\n",
       "    }\n",
       "\n",
       "    .dataframe thead th {\n",
       "        text-align: right;\n",
       "    }\n",
       "</style>\n",
       "<table border=\"1\" class=\"dataframe\">\n",
       "  <thead>\n",
       "    <tr style=\"text-align: right;\">\n",
       "      <th></th>\n",
       "      <th>2020_actual</th>\n",
       "      <th>2021_budget</th>\n",
       "      <th>2022_projected</th>\n",
       "      <th>2023_projected</th>\n",
       "      <th>2024_projected</th>\n",
       "    </tr>\n",
       "  </thead>\n",
       "  <tbody>\n",
       "    <tr>\n",
       "      <th>Sales</th>\n",
       "      <td>10.0</td>\n",
       "      <td>11.0</td>\n",
       "      <td>12.1</td>\n",
       "      <td>13.3</td>\n",
       "      <td>14.6</td>\n",
       "    </tr>\n",
       "    <tr>\n",
       "      <th>EBIT</th>\n",
       "      <td>0.8</td>\n",
       "      <td>0.9</td>\n",
       "      <td>1.0</td>\n",
       "      <td>1.1</td>\n",
       "      <td>1.2</td>\n",
       "    </tr>\n",
       "    <tr>\n",
       "      <th>FCF</th>\n",
       "      <td>NaN</td>\n",
       "      <td>0.6</td>\n",
       "      <td>0.7</td>\n",
       "      <td>0.7</td>\n",
       "      <td>0.8</td>\n",
       "    </tr>\n",
       "  </tbody>\n",
       "</table>\n",
       "</div>"
      ],
      "text/plain": [
       "       2020_actual  2021_budget  2022_projected  2023_projected  \\\n",
       "Sales         10.0         11.0            12.1            13.3   \n",
       "EBIT           0.8          0.9             1.0             1.1   \n",
       "FCF            NaN          0.6             0.7             0.7   \n",
       "\n",
       "       2024_projected  \n",
       "Sales            14.6  \n",
       "EBIT              1.2  \n",
       "FCF               0.8  "
      ]
     },
     "execution_count": 7,
     "metadata": {},
     "output_type": "execute_result"
    }
   ],
   "source": [
    "#computing our final dcf \n",
    "dcf = (sum(fcf[1:] * discount_factor) + terminal_value * discount_factor[-1])\n",
    "df_output = pd.DataFrame([sales, ebit, fcf], index = ['Sales', 'EBIT', 'FCF']).round(1)\n",
    "df_output"
   ]
  },
  {
   "cell_type": "code",
   "execution_count": 8,
   "metadata": {},
   "outputs": [],
   "source": [
    "#Simulating using Monte-Carlo\n",
    "\"\"\"\n",
    "Generating random samples obtaining a large amount of input variables and visualising with a normal distribution\n",
    "\"\"\"\n",
    "n_iter = 1000\n",
    "def monte_carlo_simulation():\n",
    "    #Probability distributions\n",
    "    sales_growth_distribution = np.random.normal(loc=0.1, scale=0.01, size=n_iter)\n",
    "    ebidta_margin_distribution = np.random.normal(loc=0.14, scale=0.02, size=n_iter)\n",
    "    working_capital_percent_distributions = np.random.normal(loc=0.24, scale=0.01, size=n_iter)\n",
    "    \n",
    "    #Building a DCF for each of the simulations\n",
    "    output_distribution = []\n",
    "    for i in range(n_iter):\n",
    "        for year in range(1, n_years):\n",
    "            sales[year] = sales[year - 1] * (1 + sales_growth_distribution[0])\n",
    "            ebidta = sales * ebidta_margin_distribution[i]\n",
    "            depreciation = (sales * depreciation_percent)\n",
    "            ebit = ebitda - depreciation\n",
    "            working_capital = sales * working_capital_percent_distributions[i]\n",
    "            change_in_working_capital = working_capital.shift(1) - working_capital \n",
    "            capex = -(sales * capex_percent)\n",
    "            tax_pay = -ebit * tax_r\n",
    "            tax_pay = tax_pay.apply(lambda x: min(x, 0))\n",
    "            fcf = ebit + depreciation + tax_pay + capex + change_in_working_capital\n",
    "            \n",
    "            #Building the DCF Valuation\n",
    "            terminal_value = (fcf[-1] * 1 + terminal_growth_rate) / (cost_of_capital - terminal_growth_rate)\n",
    "            fcf[-1] += terminal_value\n",
    "            discount_factor = [(1 / (1 + cost_of_capital)) ** i for i in range (1, n_years)]\n",
    "            dcf_value = sum(fcf[1:] * discount_factor)\n",
    "            \n",
    "            output_distribution.append(dcf_value)\n",
    "    return output_distribution"
   ]
  },
  {
   "cell_type": "code",
   "execution_count": 9,
   "metadata": {},
   "outputs": [],
   "source": [
    "def plot(x):\n",
    "    output_distribution = x\n",
    "    x = output_distribution\n",
    "    plt.hist(x, bins = 50)\n",
    "    plt.xlabel('dcf value')\n",
    "    plt.ylabel('count')\n",
    "    plt.title('DCF Modelling using a Normal Distribution')\n",
    "    plt.show()"
   ]
  },
  {
   "cell_type": "code",
   "execution_count": 12,
   "metadata": {},
   "outputs": [
    {
     "data": {
      "image/png": "[encoded data removed]",
      "text/plain": [
       "<Figure size 432x288 with 1 Axes>"
      ]
     },
     "metadata": {
      "needs_background": "light"
     },
     "output_type": "display_data"
    }
   ],
   "source": [
    "def main():\n",
    "    x = monte_carlo_simulation()\n",
    "    plot(x)\n",
    "main()"
   ]
  }
 ],
 "metadata": {
  "kernelspec": {
   "display_name": "Python 3",
   "language": "python",
   "name": "python3"
  },
  "language_info": {
   "codemirror_mode": {
    "name": "ipython",
    "version": 3
   },
   "file_extension": ".py",
   "mimetype": "text/x-python",
   "name": "python",
   "nbconvert_exporter": "python",
   "pygments_lexer": "ipython3",
   "version": "3.8.3"
  }
 },
 "nbformat": 4,
 "nbformat_minor": 4
}
